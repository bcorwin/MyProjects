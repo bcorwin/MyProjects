{
 "cells": [
  {
   "cell_type": "code",
   "execution_count": 1,
   "metadata": {
    "collapsed": false
   },
   "outputs": [],
   "source": [
    "#Generate squares\n",
    "sqs = [i**2 for i in range(100000)]\n",
    "dsqs = [2*i for i in sqs]"
   ]
  },
  {
   "cell_type": "code",
   "execution_count": null,
   "metadata": {
    "collapsed": false,
    "slideshow": {
     "slide_type": "-"
    }
   },
   "outputs": [],
   "source": [
    "# To futher shrink the search space:\n",
    "## Multiples of an answer are also an answer\n",
    "def intergal_median(n):\n",
    "    cnt = 0\n",
    "    max_val = dsqs[-1]\n",
    "    ans = {(a,b,c):False for c in range(2, n+1, 2) for b in range(int(c/2)+1, c+1) for a in range(c-b+1, b+1)}\n",
    "    for tri in ans:\n",
    "        if ans[tri] == True: continue\n",
    "        chk = sqs[tri[0]] + sqs[tri[1]] - tri[2]/2\n",
    "\n",
    "        if chk in dsqs:\n",
    "            k = 0\n",
    "            for i in range(1,max):\n",
    "                ans[i*tri] = True\n",
    "            cnt += 1\n",
    "        elif chk > max_val: return(\"Error: need more squares\")\n",
    "    return(cnt)"
   ]
  },
  {
   "cell_type": "code",
   "execution_count": null,
   "metadata": {
    "collapsed": true
   },
   "outputs": [],
   "source": [
    "print(intergal_median(100))"
   ]
  },
  {
   "cell_type": "code",
   "execution_count": null,
   "metadata": {
    "collapsed": false
   },
   "outputs": [],
   "source": [
    "n = 100000\n",
    "ans = {(a,b,c):False for c in range(2, n+1, 2) for b in range(int(c/2)+1, c+1) for a in range(c-b+1, b+1)}\n",
    "print(ans)"
   ]
  },
  {
   "cell_type": "code",
   "execution_count": null,
   "metadata": {
    "collapsed": true
   },
   "outputs": [],
   "source": []
  },
  {
   "cell_type": "code",
   "execution_count": null,
   "metadata": {
    "collapsed": true
   },
   "outputs": [],
   "source": []
  }
 ],
 "metadata": {
  "kernelspec": {
   "display_name": "Python 2",
   "language": "python",
   "name": "python2"
  },
  "language_info": {
   "codemirror_mode": {
    "name": "ipython",
    "version": 2
   },
   "file_extension": ".py",
   "mimetype": "text/x-python",
   "name": "python",
   "nbconvert_exporter": "python",
   "pygments_lexer": "ipython2",
   "version": "2.7.9"
  }
 },
 "nbformat": 4,
 "nbformat_minor": 0
}
