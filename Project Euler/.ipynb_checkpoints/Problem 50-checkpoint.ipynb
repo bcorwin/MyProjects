{
 "cells": [
  {
   "cell_type": "code",
   "execution_count": 35,
   "metadata": {
    "collapsed": true
   },
   "outputs": [],
   "source": [
    "max = 1000000\n",
    "nums = {i:True for i in range(max)}\n",
    "\n",
    "for i in range(max):\n",
    "    if i not in [0,1]:\n",
    "        max_k = int(max/i)\n",
    "        for k in range(2,max_k+1):\n",
    "            nums[k*i] = False\n",
    "    else: nums[i] = False\n",
    "primes = []\n",
    "for n in nums:\n",
    "    if nums[n] == True: primes.append(n)"
   ]
  },
  {
   "cell_type": "code",
   "execution_count": 36,
   "metadata": {
    "collapsed": false
   },
   "outputs": [
    {
     "name": "stdout",
     "output_type": "stream",
     "text": [
      "543\n",
      "997651\n"
     ]
    }
   ],
   "source": [
    "max_len = 0\n",
    "max_p = 0\n",
    "num_p = len(primes)\n",
    "for b in range(num_p):\n",
    "    for l in range(1,num_p-b):\n",
    "        s = sum(primes[b:b+l])\n",
    "        if s > max: break\n",
    "        if s in primes and l > max_len:\n",
    "            max_len = l\n",
    "            max_p = s\n",
    "print(max_len)\n",
    "print(max_p)"
   ]
  },
  {
   "cell_type": "code",
   "execution_count": null,
   "metadata": {
    "collapsed": true
   },
   "outputs": [],
   "source": []
  }
 ],
 "metadata": {
  "kernelspec": {
   "display_name": "Python 2",
   "language": "python",
   "name": "python2"
  },
  "language_info": {
   "codemirror_mode": {
    "name": "ipython",
    "version": 2
   },
   "file_extension": ".py",
   "mimetype": "text/x-python",
   "name": "python",
   "nbconvert_exporter": "python",
   "pygments_lexer": "ipython2",
   "version": "2.7.9"
  }
 },
 "nbformat": 4,
 "nbformat_minor": 0
}
